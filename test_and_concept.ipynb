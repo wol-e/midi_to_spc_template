{
 "cells": [
  {
   "cell_type": "code",
   "execution_count": 1,
   "metadata": {
    "collapsed": true
   },
   "outputs": [],
   "source": [
    "import pandas as pd\n",
    "import mido\n",
    "import matplotlib.pyplot as plt\n",
    "import numpy as np\n",
    "import re\n",
    "\n",
    "import midi_to_spc_template as midi\n",
    "\n",
    "from tqdm import tqdm\n"
   ]
  },
  {
   "cell_type": "code",
   "execution_count": 2,
   "metadata": {
    "collapsed": true
   },
   "outputs": [],
   "source": [
    "elise = midi.MidiFile(\"data/midi_examples/fuer_elise.mid\")"
   ]
  },
  {
   "cell_type": "code",
   "execution_count": 3,
   "metadata": {},
   "outputs": [
    {
     "data": {
      "text/plain": [
       "384"
      ]
     },
     "execution_count": 3,
     "metadata": {},
     "output_type": "execute_result"
    }
   ],
   "source": [
    "elise.ticks_per_beat  # beat is a quarter note"
   ]
  },
  {
   "cell_type": "code",
   "execution_count": 4,
   "metadata": {
    "scrolled": false
   },
   "outputs": [
    {
     "name": "stderr",
     "output_type": "stream",
     "text": [
      "/home/wolle/git/midi_to_spc_template/midi_to_spc_template/midi_file.py:98: UserWarning: Warning: No file path given, output will not be saved to file\n",
      "  warnings.warn(\"Warning: No file path given, output will not be saved to file\")\n",
      "100%|██████████| 2102/2102 [00:06<00:00, 314.61it/s]\n"
     ]
    }
   ],
   "source": [
    "amk_txt = elise.to_addmusick()"
   ]
  },
  {
   "cell_type": "code",
   "execution_count": 5,
   "metadata": {
    "scrolled": true
   },
   "outputs": [
    {
     "data": {
      "text/plain": [
       "'\\n        #amk 2\\n\\n        #SPC\\n        {\\n            #author \"\"\\n            #title \"\"\\n            #game \"\"\\n            #length \"auto\"\\n            #comment \"\"\\n        }\\n\\n        \\n\\n        #0 w255 t74\\n\\n        @9 ; piano\\n\\n        v255 \\n        \\n\\n        #1\\n\\n        @9 ; piano\\n\\n        v255 \\n        o5e2 o5d+2 o5e2 o5d+2 o5e2 o5d2 o5c2 o4a1 o4c2 o4e2 o4a2 o4b1 o4e2 o4g+2 o4b2 o5c1 o4e2 o5e2 o5d+2 o5e2 o5d+2 o5e2 o5d2 o5c2 o4a1 o4c2 o4e2 o4a2 o4d1^1 o4b2 o4a1 o5e2 o5d+2 o5e2 o5d+2 o5e2 o4b2 o5d2 o5c2 o4a1 o4c2 o4e2 o4a2 o4b1 o4e2 o4g+2 o4b2 o5c1 o4e2 o5e2 o5d+2 o5e2 o5d+2 o5e2 o4b2 o5d2 o5c2 o4a1 o4c2 o4e2 o4a2 o4b1 o4d1^1 o4b2 o4a1 o4b2 o5c2 o5d2 o5e1^1 o4g2 o5f2 o5e2 o5d1^1 o4f2 o5e2 o5d2 o5c1^1 o4e2 o5d2 o5c2 o4b2 o4e2 o5e2 o5e2 o6e2 o5d+2 o5e2 o5d+2 o5e2 o5d+2 o5e2 o5d+2 o5e2 o4b2 o5d2 o5c2 o4a1 o4c2 o4e2 o4a2 o4b1 o4e2 o4g+2 o4b2 o5c1 o4e2 o5e2 o5d+2 o5e2 o5d+2 o5e2 o4b2 o5d2 o5c2 o4a1 o4c2 o4e2 o4a2 o4b1 o4d1^1 o4b2 o4a1 o4b2 o5c2 o5d2 o5e1^1 o4g2 o5f2 o5e2 o5d1^1 o4f2 o5e2 o5d2 o5c1^1 o4e2 o5d2 o5c2 o4b1 o4e4 o5e2 o5e4 o6e4 o5d+4 o5e2 o5d+4 o5e2 o5d+4 o5e2 o5d+2 o5e2 o4b2 o5d2 o5c4 o4a1 o4c2 o4e2 o4a2 o4b1 o4e2 o4g+2 o4b2 o5c1 o4e4 o5e2 o5d+2 o5e2 o5d+2 o5e2 o4b2 o5d2 o5c2 o4a1 o4c2 o4e2 o4a2 o4b1 o4d2 o5c2 o4b4 o4a1 o5c4 o4f4 o5c4 o5c1^1 o5f1 o5e4 o5e1 o5d1 o5a+1 o5a4 o5a2 o5g2 o5f2 o5e2 o5d2 o5c2 o4a+1 o4a1 o4a+4 o4a4 o4g4 o4a4 o4a+4 o5c1^1 o5d2 o5d+2 o5e1. o5e2 o5f2 o4a4 o5c1 o5d4 o5c4 o4b4 o5c4 o5d1 o4b4 o5c4 o5g4 o4g4 o5g4 o4a4 o5g4 o4b4 o5g4 o5c4 o5g4 o5d4 o5g4 o5e4 o5g4 o6c4 o5b4 o5a4 o5g4 o5f4 o5e4 o5d4 o5g4 o5f4 o5d4 o5c4 o5g4 o4g4 o5g4 o4a4 o5g4 o4b4 o5g4 o5c4 o5g4 o5d4 o5g4 o5e4 o5g4 o6c4 o5b4 o5a4 o5g4 o5f4 o5e4 o5d4 o5g4 o5f4 o5d4 o5e4 o5f4 o5e4 o5d+4 o5e4 o4b4 o5e4 o5d+4 o5e4 o4b4 o5e4 o5d+4 o5e1^1 o4b2 o5e2 o5d+2 o4b2 o5e2 o5d+2 o5e2 o5d+2 o5e2 o5d+2 o5e2 o4b2 o5d2 o5c2 o4a1 o4c2 o4e2 o4a2 o4b1 o4e2 o4g+2 o4b2 o4e2 o5e2 o5d+2 o5d+2 o5e2 o4b2 o5d2 o5c2 o4a1 o4c2 o4e2 o4a2 o4b1 o4d2 o5c2 o4b2 o4a1 o4b2 o5c2 o5d2 o5e1^1 o4g2 o5f2 o5d1^1 o4f2 o5e2 o5d2 o5c1^1 o4e2 o5d2 o5c2 o4b2 o4e2 o5e2 o5e2 o5d+2 o5e2 o5d+2 o5e2 o5e2 o5d+2 o5e2 o5d2 o5c2 o4a1^1 o4c2 o4e2 o4a2 o4b1 o4e2 o4g+2 o4b2 o5c1 o4e2 o5e2 o5e2 o5d+2 o5e2 o4b2 o5d2 o5c2 o4a1^1 o4c2 o4e2 o4a2 o4b1 o4d1^1 o4b2 o4a1 o4a+1^1 o5d1^1 o5c+2 o4g+2 o5c1^1 o5d1^1 o5c2 o4b2 o4a2 o4c2 o5c2 o4d2 o4c1^1 o4e1^1 o4a1^1 o5e2 o5f2 o5f2 o5f1^1 o4g1^1 o4f2 o5c2 o4a+1^1 o4a2 o4g+1^1 o4d2 o4a1^1 o4e1 o3a4. o4c4. o4e4. o4a4. o5c4. o5e4. o5d4. o5c4. o4b4. o4a4. o5c4. o5e4. o5a4. o6c4. o6e4. o6d4. o6c4. o5b4. o5a4. o6c4. o6e4. o6a4. o7c4. o7e4. o7d4. o7c4. o6b4. o6a+4. o6a4. o6g+4. o6g4. o6f+4. o6f4. o6e4. o6d+4. o6d4. o6c+4. o6c4. o5b4. o5a+4. o5a4. o5g+4. o5g4. o5f+4. o5f4. o5e2 o5d+2 o5e2 o5d2 o5c2 o4a1 o4c2 o4e2 o4a2 o4b1 o4e2 o4g+2 o4b2 o5c1 o4e2 o5e2 o5d+2 o5e2 o5d+2 o5e2 o4b2 o5d2 o5c2 o4a1 o4c2 o4e2 o4a2 o4b1 o4d2 o5c2 o4b2 o4c1 o4b2 o5c2 o5d2 o5e1^1 o4g2 o5f2 o5e2 o5d1^1 o4f2 o5e2 o5d2 o5c1^1 o4e2 o5d2 o5c2 o4b2 o4e2 o5e2 o5e2 o6e2 o5d+2 o5e2 o5d+2 o5e2 o5d+2 o5e2 o5d+2 o5e2 o4b2 o5d2 o5c2 o4a1^1 o4c2 o4e2 o4a2 o4b1^1 o4e2 o4g+2 o4b2 o5c1 o4e2 o5e2 o5d+2 o5e2 o5d+2 o5e2 o4b2 o5d2 o5c2 o4a1 o4c2 o4e2 o4a2 o4b1 o4d1^1 o4b2 o4c1^1 \\n\\n        #2\\n\\n        @9 ; piano\\n\\n        v255 \\n        o2a2 o3e2 o3a2 o2e2 o3e2 o3g+2 o2a2 o3e2 o3a2 o2a2 o3e2 o2e2 o3e2 o3g+2 o2a2 o3e2 o3a2 o2a2 o3e2 o3a2 o2e2 o3e2 o3g+2 o2a2 o3e2 o3a2 o2a2 o3e2 o3a2 o2e2 o3e2 o3g+2 o2a2 o3e2 o3a2 o3c2 o3g2 o4c2 o2g2 o3g2 o3b2 o2a2 o3e2 o3a2 o2e2 o3e2 o4e2 o4e2 o5e2 o5d+2 o5e2 o5d+2 o5e2 o2a2 o3e2 o3a2 o2e2 o3e2 o3g+2 o2a2 o3e2 o3a2 o2a2 o3e2 o3a2 o2e2 o3e2 o3g+2 o2a2 o3e2 o3a2 o3c2 o3g2 o4c2 o2g2 o3g2 o3b2 o2a2 o3e2 o3a2 o2e2 o3e2 o4e2 o4e2 o5e2 o5d+2 o5e2 o5d+2 o5e2 o2a2 o3e2 o3a2 o2e2 o3e2 o3g+2 o2a2 o3e2 o3a2 o2a2 o3e2 o3a2 o2e2 o3e2 o3g+2 o2a2 o3e2 o3a2 o4c2 o3a2 o4c2 o3f2 o3a2 o4c2 o3a2 o4c2 o3a2 o3f2 o3a+2 o4d2 o3a+2 o4d2 o3a+2 o3f2 o4d2 o3f2 o4d2 o3a+2 o4d2 o3f2 o3a2 o4c2 o3a2 o4c2 o3a2 o3f2 o3a2 o4c2 o3a2 o4c2 o3a2 o3e2 o3a2 o4c2 o3a2 o3d2 o3f2 o3g2 o4e2 o3g2 o4e2 o3g2 o4f2 o4c2 o4g2 o4e2 o4d2 o4c2 o3a1 o3b2 o4c2 o4g2 o4f2 o4g2 o3f2 o3b2 o3b1 o5d+2 o5e2 o5d+2 o5e2 o2a2 o3e2 o3a2 o2e2 o3g+2 o2a2 o3e2 o3a2 o2a2 o3e2 o3a2 o2e2 o3g+2 o2a2 o3a2 o3c2 o4c2 o2g2 o3g2 o3b2 o2a2 o3e2 o2e2 o3e2 o4e2 o5e2 o5d+2 o5e2 o5d+2 o5e2 o2a2 o3e2 o3a2 o2e2 o3e2 o3g+2 o2a2 o3e2 o3a2 o2a2 o3e2 o3a2 o2e2 o3e2 o3g+2 o2a2 o2a2 o2a2 o2a2 o2a2 o2a2 o2a2 o2a2 o2a2 o2a2 o2a2 o2a2 o2a2 o2a2 o2a2 o2a2 o2a2 o2a2 o2a2 o2a2 o2a2 o2a2 o2a2 o2a2 o2a2 o2a2 o2a2 o2a2 o2a2 o2a2 o2d+2 o2a2 o2d+2 o2a2 o2a2 o2a2 o2e2 o2e2 o2g+2 o1a1 o2a2 o2a2 o2a2 o2a2 o2a2 o2a2 o2a2 o2a2 o2a2 o2a2 o2a2 o2a2 o2a2 o2a2 o2a2 o2a2 o2a2 o2a2 o2a2 o2a2 o2a2 o2a2 o2a+2 o2a+2 o2a+2 o2a+2 o2a+2 o2a+2 o2a+2 o2a+2 o2a+2 o2a+2 o2a+2 o2a+2 o2a+2 o2a+2 o2a+2 o2a+2 o2a+2 o2b2 o2b2 o2b2 o2b2 o2b2 o2b2 o3c1 o3e1 o1a1 o4e2 o4e2 o3a2 o4e2 o4e2 o4c2 o2a2 o3e2 o3a2 o2e2 o3e2 o2a2 o3e2 o3a2 o2a2 o3e2 o3a2 o2e2 o3e2 o3g+2 o2a2 o3e2 o3a2 o3c2 o3g2 o4c2 o2g2 o3g2 o3b2 o2a2 o3e2 o3a2 o2e2 o3e2 o4e2 o4e2 o5e2 o5d+2 o5e2 o5d+2 o5e2 o2a2 o3e2 o3a2 o2e2 o3e2 o3g+2 o2a2 o3e2 o3a2 o2a2 o3e2 o3a2 o2e2 o3e2 o3g+2 o2a1^1 \\n\\n        #3\\n\\n        @9 ; piano\\n\\n        v255 \\n        o5e2 o5d+2 o5e2 o5d+2 o5e2 o4b2 o5d2 o5c2 o4a1 o4c2 o4e2 o4a2 o4b1 o4e2 o4g+2 o4b2 o5c1 o4e2 o5e2 o5d+2 o5e2 o5d+2 o4b2 o5d2 o5c2 o4a1 o4c2 o4e2 o4a2 o4d1^1 o4b2 o4a1 o5e2 o5d+2 o5e2 o5d+2 o5e2 o4b2 o5d2 o5c2 o4a1 o4c2 o4e2 o4a2 o4b1 o4e2 o4g+2 o4b2 o5c1 o4e2 o5e2 o5d+2 o5e2 o5d+2 o5e2 o4b2 o5d2 o5c2 o4a1 o4c2 o4e2 o4a2 o4b1 o4d1^1 o4b2 o4c1 o4b2 o5c2 o5d2 o5e1^1 o4g2 o5f2 o5e2 o5d1^1 o4f2 o5e2 o5d2 o5c1^1 o5d2 o5c2 o4b2 o4e2 o5e2 o5e2 o6e2 o5d+2 o5e2 o5d+2 o5e2 o5d+2 o5e2 o5d+2 o5e2 o4b2 o5d2 o5c2 o4a1 o4c2 o4e2 o4a2 o4b1 o4e2 o4g+2 o4b2 o5c1 o4e2 o5e2 o5d+2 o5e2 o5d+2 o5e2 o4b2 o5d2 o5c2 o4a1 o4c2 o4e2 o4a2 o4b1 o4d1^1 o4b2 o4c1 o4b2 o5c2 o5d2 o5e1^1 o4g2 o5f2 o5e2 o5d1^1 o4f2 o5e2 o5d2 o5c1^1 o4e2 o5d2 o5c2 o4b1 o4e4 o5e2 o5e4 o6e4 o5d+4 o5e2 o5d+4 o5e2 o5d+4 o5e2 o5d+2 o5e2 o4b2 o5d2 o5c4 o4a1 o4c2 o4e2 o4a2 o4b1 o4e2 o4g+2 o4b2 o5c1 o4e4 o5e2 o5d+2 o5e2 o5d+2 o5e2 o4b2 o5d2 o5c2 o4a1 o4c2 o4e2 o4a2 o4b1 o4d2 o5c2 o4b4 o4c1 o5c4 o4f4 o4g4 o5c1^1 o5f1 o5e4 o5e1 o5d1 o5a+1 o5a4 o5a2 o5g2 o5f2 o5e2 o5d2 o5c2 o4a+1 o4a1 o4a+4 o4a4 o4g4 o4a4 o4a+4 o5c1^1 o5d2 o5d+2 o5e1. o5e2 o5f2 o4a4 o5c1 o5d4 o5c4 o4b4 o5c4 o5d1 o4b4 o5c4 o5g4 o4g4 o5g4 o4a4 o5g4 o4b4 o5g4 o5c4 o5g4 o5d4 o5g4 o5e4 o5g4 o6c4 o5b4 o5a4 o5g4 o5f4 o5e4 o5d4 o5g4 o5f4 o5d4 o5c4 o5g4 o4g4 o5g4 o4a4 o5g4 o4b4 o5g4 o5c4 o5g4 o5d4 o5g4 o5e4 o5g4 o6c4 o5b4 o5a4 o5g4 o5f4 o5e4 o5d4 o5g4 o5f4 o5d4 o5e4 o5f4 o5e4 o5d+4 o5e4 o4b4 o5e4 o5d+4 o5e4 o4b4 o5e4 o5d+4 o5e1^1 o4b2 o5e2 o5d+2 o5e1^1 o4b2 o5e2 o5d+2 o5e2 o5d+2 o5e2 o5d+2 o4b2 o5d2 o5c2 o4a1 o4c2 o4e2 o4a2 o4b1 o4e2 o4g+2 o4b2 o5c1 o4e2 o5e2 o5e2 o5d+2 o5e2 o4b2 o5c2 o4a1 o4c2 o4e2 o4a2 o4b1 o4d2 o5c2 o4b2 o4a1 o4b2 o5c2 o5e1^1 o4g2 o5f2 o5d1^1 o4f2 o5e2 o5d2 o5c1^1 o4e2 o5d2 o5c2 o4b2 o4e2 o5e2 o5e2 o6e2 o5d+2 o5e2 o5d+2 o5e2 o5d+2 o5d+2 o5e2 o4b2 o5d2 o5c2 o4a1^1 o4c2 o4e2 o4a2 o4b1 o4e2 o4g+2 o4b2 o5c1 o4e2 o5e2 o5d+2 o5d+2 o5e2 o4b2 o5d2 o5c2 o4c2 o4e2 o4a2 o4b1 o4d1^1 o4b2 o4a1 o4a+1^1 o4f1^1 o5c+2 o5d2 o5d1^1 o4g+2 o5c1^1 o5d1^1 o5c2 o4b2 o4c1^1 o4a2 o4c2 o4e2 o4d2 o4c1^1 o4a+1^1 o5d1^1 o5c+2 o5d2 o5d1^1 o5f2 o5f1^1 o4g1^1 o4f2 o5c2 o4f1^1 o4a2 o4g+1^1 o4d2 o4a1^1 o4e1 o3a4. o4c4. o4e4. o4a4. o5c4. o5e4. o5d4. o5c4. o4b4. o4a4. o5c4. o5e4. o5a4. o6c4. o6e4. o6d4. o6c4. o5b4. o5a4. o6c4. o6e4. o6a4. o7c4. o7e4. o7d4. o7c4. o6b4. o6a+4. o6a4. o6g+4. o6g4. o6f+4. o6f4. o6e4. o6d+4. o6d4. o6c+4. o6c4. o5b4. o5a+4. o5a4. o5g+4. o5g4. o5f+4. o5f4. o5e2 o5d+2 o5e2 o4b2 o5d2 o5c2 o4a1 o4c2 o4e2 o4a2 o4b1 o4e2 o4g+2 o4b2 o5c1 o4e2 o5e2 o5d+2 o5e2 o5d+2 o5e2 o4b2 o5d2 o5c2 o4a1 o4c2 o4e2 o4a2 o4b1 o4d2 o5c2 o4b2 o4a1 o4b2 o5c2 o5d2 o5e1^1 o4g2 o5f2 o5e2 o5d1^1 o4f2 o5e2 o5d2 o5c1^1 o4e2 o5d2 o5c2 o4b2 o4e2 o5e2 o5e2 o6e2 o5d+2 o5e2 o5d+2 o5e2 o5d+2 o5e2 o5d+2 o5e2 o4b2 o5d2 o5c2 o4a1^1 o4c2 o4e2 o4a2 o4b1^1 o4e2 o4g+2 o4b2 o5c1 o4e2 o5e2 o5d+2 o5e2 o5d+2 o5e2 o4b2 o5d2 o5c2 o4a1 o4c2 o4e2 o4a2 o4b1 o4d1^1 o4b2 o4a1^1 \\n\\n        #4\\n\\n        @9 ; piano\\n\\n        v255 \\n        o2a2 o3e2 o3a2 o2e2 o3e2 o3g+2 o2a2 o3e2 o3a2 o2a2 o3a2 o2e2 o3e2 o3g+2 o2a2 o3e2 o3a2 o2a2 o3e2 o3a2 o2e2 o3e2 o3g+2 o2a2 o3e2 o3a2 o2a2 o3e2 o3a2 o2e2 o3e2 o3g+2 o2a2 o3e2 o3a2 o3c2 o3g2 o4c2 o2g2 o3g2 o3b2 o2a2 o3e2 o3a2 o2e2 o3e2 o4e2 o4e2 o5e2 o5d+2 o5e2 o5d+2 o5e2 o2a2 o3e2 o3a2 o2e2 o3e2 o3g+2 o2a2 o3e2 o3a2 o2a2 o3e2 o3a2 o2e2 o3e2 o3g+2 o2a2 o3e2 o3a2 o3c2 o3g2 o4c2 o2g2 o3g2 o3b2 o2a2 o3e2 o3a2 o2e2 o3e2 o4e2 o4e2 o5e2 o5d+2 o5e2 o5d+2 o5e2 o2a2 o3e2 o3a2 o2e2 o3e2 o3g+2 o2a2 o3e2 o3a2 o2a2 o3e2 o3a2 o2e2 o3e2 o3g+2 o2a2 o3e2 o3a2 o3a+2 o3a2 o3a+2 o3f2 o3a2 o4c2 o3a2 o4c2 o3a2 o3f2 o3a+2 o4d2 o3a+2 o4d2 o3a+2 o3f2 o4d2 o3g2 o4d2 o3a+2 o4d2 o3f2 o3a2 o4c2 o3a2 o4c2 o3a2 o3f2 o3a2 o4c2 o3a2 o4c2 o3a2 o3e2 o3a2 o4c2 o3a2 o3d2 o3f2 o3g2 o4e2 o3g2 o4e2 o3g2 o4f2 o4c2 o4g2 o4g2 o4f2 o4g2 o3a1 o3b2 o4c2 o4g2 o4e2 o3f2 o3b2 o3b1 o5d+2 o5e2 o5d+2 o2a2 o3e2 o3a2 o2e2 o3e2 o3g+2 o2a2 o3e2 o3a2 o2a2 o3e2 o3a2 o2e2 o3e2 o3g+2 o2a2 o3e2 o3a2 o3c2 o3g2 o4c2 o2g2 o3g2 o3b2 o2a2 o3e2 o3a2 o2e2 o3e2 o4e2 o4e2 o5e2 o5d+2 o5e2 o5d+2 o5e2 o2a2 o3e2 o3a2 o2e2 o3e2 o3g+2 o2a2 o3e2 o3a2 o2a2 o3e2 o3a2 o2e2 o3e2 o3g+2 o2a2 o2a2 o2a2 o2a2 o2a2 o2a2 o2a2 o2a2 o2a2 o2a2 o2a2 o2a2 o2a2 o2a2 o2a2 o2a2 o2a2 o2a2 o2a2 o2a2 o2a2 o2a2 o2a2 o2a2 o2a2 o2a2 o2a2 o2a2 o2a2 o2a2 o2d2 o2d+2 o2a2 o2a2 o2d+2 o2a2 o2e2 o2a2 o1a1 o2a2 o2a2 o2a2 o2a2 o2a2 o2a2 o2a2 o2a2 o2a2 o2a2 o2a2 o2a2 o2a2 o2a2 o2a2 o2a2 o2a2 o2a2 o2a2 o2a2 o2a+2 o2a+2 o2a+2 o2a+2 o2a+2 o2a+2 o2a+2 o2a+2 o2a+2 o2a+2 o2a+2 o2a+2 o2a+2 o2a+2 o2a+2 o2a+2 o2a+2 o2b2 o2b2 o2b2 o2b2 o2b2 o2b2 o3c1 o3e1 o1a1 o3a2 o4e2 o3a2 o4e2 o4e2 o3a2 o2a2 o3e2 o2e2 o3g+2 o2a2 o3a2 o2a2 o3e2 o3a2 o2e2 o3e2 o3g+2 o2a2 o3e2 o3a2 o3c2 o3g2 o4c2 o2g2 o3g2 o3b2 o2a2 o3e2 o3a2 o2e2 o3e2 o4e2 o4e2 o5e2 o5d+2 o5e2 o5d+2 o5e2 o2a2 o3e2 o3a2 o2e2 o3e2 o3g+2 o2a2 o3e2 o3a2 o2a2 o3e2 o3a2 o2e2 o3e2 o3g+2 o1a1^1 '"
      ]
     },
     "execution_count": 5,
     "metadata": {},
     "output_type": "execute_result"
    }
   ],
   "source": [
    "amk_txt"
   ]
  },
  {
   "cell_type": "code",
   "execution_count": 6,
   "metadata": {},
   "outputs": [
    {
     "ename": "NameError",
     "evalue": "name 'elise_df' is not defined",
     "output_type": "error",
     "traceback": [
      "\u001b[0;31m---------------------------------------------------------------------------\u001b[0m",
      "\u001b[0;31mNameError\u001b[0m                                 Traceback (most recent call last)",
      "\u001b[0;32m<ipython-input-6-a6faa5523eb2>\u001b[0m in \u001b[0;36m<module>\u001b[0;34m\u001b[0m\n\u001b[1;32m     10\u001b[0m \"\"\"\n\u001b[1;32m     11\u001b[0m \u001b[0;34m\u001b[0m\u001b[0m\n\u001b[0;32m---> 12\u001b[0;31m \u001b[0melise_df\u001b[0m\u001b[0;34m[\u001b[0m\u001b[0melise_df\u001b[0m\u001b[0;34m[\u001b[0m\u001b[0;34m\"type_1\"\u001b[0m\u001b[0;34m]\u001b[0m \u001b[0;34m==\u001b[0m \u001b[0;34m\"control_change\"\u001b[0m\u001b[0;34m]\u001b[0m\u001b[0;34m.\u001b[0m\u001b[0mgroupby\u001b[0m\u001b[0;34m(\u001b[0m\u001b[0mby\u001b[0m\u001b[0;34m=\u001b[0m\u001b[0;34m[\u001b[0m\u001b[0;34m\"control\"\u001b[0m\u001b[0;34m,\u001b[0m \u001b[0;34m\"channel\"\u001b[0m\u001b[0;34m]\u001b[0m\u001b[0;34m)\u001b[0m\u001b[0;34m.\u001b[0m\u001b[0mcount\u001b[0m\u001b[0;34m(\u001b[0m\u001b[0;34m)\u001b[0m\u001b[0;34m\u001b[0m\u001b[0;34m\u001b[0m\u001b[0m\n\u001b[0m",
      "\u001b[0;31mNameError\u001b[0m: name 'elise_df' is not defined"
     ]
    }
   ],
   "source": [
    "\"\"\"\n",
    "Control changes:\n",
    "\n",
    "0: bank select\n",
    "1: Modulation Wheel\n",
    "7: Channel Volume\n",
    "10: Pan\n",
    "11: Expression Controller\n",
    "64: Damper Pedal on/off (Sustain): value ≤63 off, value ≥64 on\n",
    "\"\"\"\n",
    "\n",
    "elise_df[elise_df[\"type_1\"] == \"control_change\"].groupby(by=[\"control\", \"channel\"]).count()"
   ]
  },
  {
   "cell_type": "code",
   "execution_count": null,
   "metadata": {
    "scrolled": false
   },
   "outputs": [],
   "source": [
    "from matplotlib.ticker import FuncFormatter\n",
    "import matplotlib\n",
    "\n",
    "from midi_to_spc_template.functions import midi_note_value_to_western\n",
    "\n",
    "font = {'family' : 'DejaVu Sans',\n",
    "        'weight' : 'bold',\n",
    "        'size'   : 13}\n",
    "\n",
    "matplotlib.rc('font', **font)\n",
    "\n",
    "def note_names(x, pos):\n",
    "    'The two args are the value and tick position'\n",
    "    return midi_note_value_to_western(x)\n",
    "\n",
    "\n",
    "formatter = FuncFormatter(note_names)\n",
    "\n",
    "\n",
    "fig, ax = plt.subplots(4, 1, figsize=(15, 35))\n",
    "\n",
    "for i in range(4):\n",
    "    ax[i].plot(\n",
    "        elise_df[(elise_df[\"type_1\"] == 'note_on') & (elise_df[\"track\"] == i + 1)][\"total_time_seconds\"],\n",
    "        elise_df[(elise_df[\"type_1\"] == 'note_on') & (elise_df[\"track\"] == i + 1)][\"note\"],\n",
    "        'bo', label=f\"track {i + 1}\"\n",
    "    )\n",
    "\n",
    "    ax[i].yaxis.set_major_formatter(formatter)\n",
    "    ax[i].grid(True)\n",
    "    ax[i].legend()\n",
    "    ax[i].set_facecolor(\"whitesmoke\")"
   ]
  },
  {
   "cell_type": "markdown",
   "metadata": {},
   "source": [
    "# Transform to SMW txt for SPC conversion"
   ]
  },
  {
   "cell_type": "code",
   "execution_count": null,
   "metadata": {
    "collapsed": true
   },
   "outputs": [],
   "source": [
    "with open(\"src/data/txt_output_examples/für_elise.txt\", \"w\") as text_file:\n",
    "    print(elise_txt, file=text_file)"
   ]
  },
  {
   "cell_type": "code",
   "execution_count": null,
   "metadata": {
    "collapsed": true
   },
   "outputs": [],
   "source": [
    "\"\"\"\n",
    "TODO:  \n",
    "    - Add rests (base starts immediately, that's wrong)\n",
    "    - Align total duration of channesl (had to add rests so that it actually plays anything)\n",
    "\"\"\""
   ]
  }
 ],
 "metadata": {
  "kernelspec": {
   "display_name": "midi",
   "language": "python",
   "name": "midi"
  },
  "language_info": {
   "codemirror_mode": {
    "name": "ipython",
    "version": 3
   },
   "file_extension": ".py",
   "mimetype": "text/x-python",
   "name": "python",
   "nbconvert_exporter": "python",
   "pygments_lexer": "ipython3",
   "version": "3.8.2"
  }
 },
 "nbformat": 4,
 "nbformat_minor": 4
}
